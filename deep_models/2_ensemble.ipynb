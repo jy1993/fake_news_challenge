{
 "cells": [
  {
   "cell_type": "code",
   "execution_count": 1,
   "metadata": {
    "collapsed": false
   },
   "outputs": [
    {
     "name": "stderr",
     "output_type": "stream",
     "text": [
      "Using CNTK backend\n"
     ]
    },
    {
     "name": "stdout",
     "output_type": "stream",
     "text": [
      "using gpu\n"
     ]
    }
   ],
   "source": [
    "import torch\n",
    "from torch import nn\n",
    "import torch.nn.functional as F\n",
    "from torch.optim import Adam, SGD\n",
    "from torch.utils.data import DataLoader, Dataset\n",
    "from torch.optim.lr_scheduler import ReduceLROnPlateau, StepLR\n",
    "from torch.nn.utils import clip_grad_norm_\n",
    "import pandas as pd\n",
    "import numpy as np\n",
    "from sklearn.metrics import classification_report, f1_score, accuracy_score\n",
    "from tqdm import tqdm_notebook as tqdm\n",
    "import torchnet as tnt\n",
    "#from keras.preprocessing.sequence import pad_sequences\n",
    "import warnings\n",
    "warnings.filterwarnings('ignore')\n",
    "from utils import *\n",
    "import matplotlib.pyplot as plt\n",
    "%matplotlib inline \n",
    "from deep_models import *"
   ]
  },
  {
   "cell_type": "code",
   "execution_count": 2,
   "metadata": {
    "collapsed": false
   },
   "outputs": [],
   "source": [
    "def predict_proba(model, data_iter):\n",
    "    model.eval()\n",
    "    y_pred = []\n",
    "    y_true = []\n",
    "    with torch.no_grad():\n",
    "        for headlines, bodies, labels in tqdm(data_iter):\n",
    "            headlines = torch.from_numpy(headlines).cuda().long()\n",
    "            bodies = torch.from_numpy(bodies).cuda().long()\n",
    "            y_true.extend(labels)\n",
    "            out, _, _ = model(headlines, bodies)\n",
    "            y_pred.append(out.cpu().data.numpy())\n",
    "    return np.concatenate(y_pred, axis=0), y_true\n",
    "\n",
    "def test_batch(filename, batch_size=64, max_len_h=50, max_len_b=100, data_aug=False):\n",
    "        # load headline, body, stance from a file\n",
    "        data = pickle.load(open(filename, 'rb'))\n",
    "        headlines = np.array(data['h'])\n",
    "        bodies = np.array(data['b'])\n",
    "        y = np.array(data['y'])\n",
    "        \n",
    "        sorted_h = headlines\n",
    "        sorted_b = bodies\n",
    "        sorted_y = y\n",
    "\n",
    "        assert len(sorted_h) == len(sorted_b) == len(sorted_y)\n",
    "\n",
    "        # using the first 200 words in articleBodies\n",
    "        for i in range(0, len(sorted_h), batch_size):\n",
    "            batch_h = sorted_h[i:i+batch_size]\n",
    "            batch_b = sorted_b[i:i+batch_size]\n",
    "            batch_y = sorted_y[i:i+batch_size]\n",
    "\n",
    "            # get max length of headlines and bodies in the batch\n",
    "            len_batch_h = [len(v) for v in batch_h]\n",
    "            len_batch_b = [len(v) for v in batch_b]\n",
    "            maxlen1 = max_len_h if max_len_h < max(len_batch_h) else max(len_batch_h)\n",
    "            maxlen2 = max_len_b if max_len_b < max(len_batch_b) else max(len_batch_b)\n",
    "\n",
    "            # padding to the max length\n",
    "            batch_h = pad_sequences(batch_h, maxlen1, padding='pre', truncating='post')\n",
    "            batch_b = pad_sequences(batch_b, maxlen2, padding='pre', truncating='post')\n",
    "            yield (batch_h, batch_b, batch_y)\n",
    "\n",
    "        # using the last 200 words in articleBodies\n",
    "        if data_aug:\n",
    "            for i in range(0, len(sorted_h), batch_size):\n",
    "                batch_h = sorted_h[i:i+batch_size]\n",
    "                batch_b = sorted_b[i:i+batch_size]\n",
    "                batch_y = sorted_y[i:i+batch_size]\n",
    "\n",
    "                # get max length of headlines and bodies in the batch\n",
    "                len_batch_h = [len(v) for v in batch_h]\n",
    "                len_batch_b = [len(v) for v in batch_b]\n",
    "                maxlen1 = max_len_h if max_len_h < max(len_batch_h) else max(len_batch_h)\n",
    "                maxlen2 = max_len_b if max_len_b < max(len_batch_b) else max(len_batch_b)\n",
    "\n",
    "                # padding to the max length\n",
    "                batch_h = pad_sequences(batch_h, maxlen1, padding='pre', truncating='pre')\n",
    "                batch_b = pad_sequences(batch_b, maxlen2, padding='pre', truncating='pre')\n",
    "                yield (batch_h, batch_b, batch_y)\n",
    "                \n",
    "def test_model(model, data_iter):\n",
    "    model.eval()\n",
    "    y_pred = []\n",
    "    y_true = []\n",
    "    with torch.no_grad():\n",
    "        for headlines, bodies, labels in tqdm(data_iter):\n",
    "            headlines = torch.from_numpy(headlines).cuda().long()\n",
    "            bodies = torch.from_numpy(bodies).cuda().long()\n",
    "            y_true.extend(labels)\n",
    "            labels = torch.from_numpy(labels).cuda().long()\n",
    "            out, _, _ = model(headlines, bodies)\n",
    "            _, index = torch.max(out, dim=1)\n",
    "            y_pred.extend(index.cpu().data.numpy())\n",
    "\n",
    "    model.train()\n",
    "    print('classification report:')\n",
    "    print('accuracy: %.3f' % accuracy_score(y_true, y_pred))\n",
    "    print(classification_report(y_true, y_pred))\n",
    "    print('macro f1: %.3f' % f1_score(y_true, y_pred, average='macro'))\n",
    "    print('score: %.3f' % (get_score(y_true, y_pred) / get_score(y_true, y_true)))"
   ]
  },
  {
   "cell_type": "code",
   "execution_count": 3,
   "metadata": {
    "collapsed": true
   },
   "outputs": [],
   "source": [
    "pretrained_file_name = './tmp/pretrained.pkl'\n",
    "train_filename = './tmp/train_ids.pkl'\n",
    "val_filename = './tmp/val_ids.pkl'\n",
    "test_filename = './tmp/test_ids.pkl'\n",
    "vecs = pickle.load(open(pretrained_file_name, 'rb'))"
   ]
  },
  {
   "cell_type": "code",
   "execution_count": 9,
   "metadata": {
    "collapsed": false
   },
   "outputs": [
    {
     "name": "stdout",
     "output_type": "stream",
     "text": [
      "\n",
      "\n"
     ]
    }
   ],
   "source": [
    "model_name = 'Esim'\n",
    "if model_name == 'EmbeddingBag':\n",
    "    model = EmbeddingBag(vecs).cuda()\n",
    "elif model_name == 'Esim':\n",
    "    model = Esim(vecs).cuda()\n",
    "\n",
    "results = []\n",
    "for model_path in  ['./models/Esim_2_acc_0.777', './models/Esim_3_acc_0.784']:\n",
    "    model = Esim(vecs).cuda()\n",
    "    model.load_state_dict(torch.load(model_path))\n",
    "    y_pred, tmp = predict_proba(model, test_batch(test_filename, batch_size=64, max_len_b=100))\n",
    "\n",
    "    results.append(y_pred)\n",
    "    y_true = tmp"
   ]
  },
  {
   "cell_type": "code",
   "execution_count": 13,
   "metadata": {
    "collapsed": false
   },
   "outputs": [
    {
     "name": "stdout",
     "output_type": "stream",
     "text": [
      "classification report:\n",
      "accuracy: 0.849\n",
      "             precision    recall  f1-score   support\n",
      "\n",
      "          0       0.46      0.53      0.49      1903\n",
      "          1       0.00      0.00      0.00       697\n",
      "          2       0.63      0.74      0.68      4464\n",
      "          3       0.96      0.94      0.95     18349\n",
      "\n",
      "avg / total       0.84      0.85      0.84     25413\n",
      "\n",
      "macro f1: 0.531\n",
      "score: 0.787\n"
     ]
    }
   ],
   "source": [
    "pred_sum = 0 \n",
    "for item in results:\n",
    "    pred_sum += item\n",
    "\n",
    "pred_sum = results[1]\n",
    "final_pred = np.argmax(pred_sum, axis=1)\n",
    "score = get_score(y_true, final_pred) / get_score(y_true, y_true)\n",
    "\n",
    "print('classification report:')\n",
    "print('accuracy: %.3f' % accuracy_score(y_true, final_pred))\n",
    "print(classification_report(y_true, final_pred))\n",
    "print('macro f1: %.3f' % f1_score(y_true, final_pred, average='macro'))\n",
    "print('score: %.3f' % score)"
   ]
  },
  {
   "cell_type": "code",
   "execution_count": 4,
   "metadata": {
    "collapsed": false
   },
   "outputs": [
    {
     "name": "stdout",
     "output_type": "stream",
     "text": [
      "\n"
     ]
    },
    {
     "data": {
      "text/plain": [
       "(25413, 4)"
      ]
     },
     "execution_count": 4,
     "metadata": {},
     "output_type": "execute_result"
    }
   ],
   "source": [
    "model = Esim(vecs).cuda()\n",
    "model.load_state_dict(torch.load('./models/Esim_3_acc_0.784'))\n",
    "y_pred, tmp = predict_proba(model, test_batch(test_filename, batch_size=64, max_len_b=100))\n",
    "y_pred.shape"
   ]
  },
  {
   "cell_type": "code",
   "execution_count": 6,
   "metadata": {
    "collapsed": false
   },
   "outputs": [],
   "source": [
    "import pickle\n",
    "lgb_pred = pickle.load(open('./pred/lgb.pkl', 'rb'))"
   ]
  },
  {
   "cell_type": "code",
   "execution_count": 13,
   "metadata": {
    "collapsed": false
   },
   "outputs": [
    {
     "name": "stdout",
     "output_type": "stream",
     "text": [
      "classification report:\n",
      "accuracy: 0.891\n",
      "             precision    recall  f1-score   support\n",
      "\n",
      "          0       0.55      0.50      0.52      1903\n",
      "          1       0.50      0.00      0.00       697\n",
      "          2       0.74      0.80      0.77      4464\n",
      "          3       0.96      0.99      0.97     18349\n",
      "\n",
      "avg / total       0.88      0.89      0.88     25413\n",
      "\n",
      "macro f1: 0.566\n",
      "score: 0.816\n"
     ]
    }
   ],
   "source": [
    "pred_sum = 0.2 * y_pred + 0.8 * lgb_pred\n",
    "final_pred = np.argmax(pred_sum, axis=1)\n",
    "y_true = tmp\n",
    "score = get_score(y_true, final_pred) / get_score(y_true, y_true)\n",
    "\n",
    "print('classification report:')\n",
    "print('accuracy: %.3f' % accuracy_score(y_true, final_pred))\n",
    "print(classification_report(y_true, final_pred))\n",
    "print('macro f1: %.3f' % f1_score(y_true, final_pred, average='macro'))\n",
    "print('score: %.3f' % score)"
   ]
  },
  {
   "cell_type": "code",
   "execution_count": 15,
   "metadata": {
    "collapsed": false
   },
   "outputs": [
    {
     "name": "stdout",
     "output_type": "stream",
     "text": [
      "[[1.         0.75058765]\n",
      " [0.75058765 1.        ]]\n",
      "[[1.         0.09864944]\n",
      " [0.09864944 1.        ]]\n",
      "[[1.         0.79555826]\n",
      " [0.79555826 1.        ]]\n",
      "[[1.         0.86601056]\n",
      " [0.86601056 1.        ]]\n"
     ]
    }
   ],
   "source": [
    "for i in range(4):\n",
    "    print(np.corrcoef(y_pred[:, i], lgb_pred[:, i]))"
   ]
  },
  {
   "cell_type": "code",
   "execution_count": null,
   "metadata": {
    "collapsed": true
   },
   "outputs": [],
   "source": []
  }
 ],
 "metadata": {
  "kernelspec": {
   "display_name": "Python 3",
   "language": "python",
   "name": "python3"
  },
  "language_info": {
   "codemirror_mode": {
    "name": "ipython",
    "version": 3
   },
   "file_extension": ".py",
   "mimetype": "text/x-python",
   "name": "python",
   "nbconvert_exporter": "python",
   "pygments_lexer": "ipython3",
   "version": "3.6.0"
  },
  "widgets": {
   "state": {
    "64a03748783649718d6efbec0b60d4aa": {
     "views": [
      {
       "cell_index": 5
      }
     ]
    }
   },
   "version": "1.2.0"
  }
 },
 "nbformat": 4,
 "nbformat_minor": 2
}
