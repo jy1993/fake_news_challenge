{
 "cells": [
  {
   "cell_type": "code",
   "execution_count": 1,
   "metadata": {
    "collapsed": false
   },
   "outputs": [
    {
     "name": "stderr",
     "output_type": "stream",
     "text": [
      "Using CNTK backend\n"
     ]
    },
    {
     "name": "stdout",
     "output_type": "stream",
     "text": [
      "using gpu\n"
     ]
    }
   ],
   "source": [
    "import torch\n",
    "from torch import nn\n",
    "import torch.nn.functional as F\n",
    "from torch.optim import Adam, SGD\n",
    "from torch.utils.data import DataLoader, Dataset\n",
    "from torch.optim.lr_scheduler import ReduceLROnPlateau\n",
    "from torch.nn.utils import clip_grad_norm_\n",
    "import pandas as pd\n",
    "import numpy as np\n",
    "from sklearn.metrics import classification_report, f1_score, accuracy_score\n",
    "from tqdm import tqdm_notebook as tqdm\n",
    "import torchnet as tnt\n",
    "#from keras.preprocessing.sequence import pad_sequences\n",
    "import warnings\n",
    "warnings.filterwarnings('ignore')\n",
    "from utils import *\n",
    "import matplotlib.pyplot as plt\n",
    "%matplotlib inline \n",
    "from deep_models import *"
   ]
  },
  {
   "cell_type": "code",
   "execution_count": 2,
   "metadata": {
    "collapsed": false
   },
   "outputs": [],
   "source": [
    "def train_model(model, data_iter, loss_fun, opt):\n",
    "    model.train()\n",
    "    meter = tnt.meter.AverageValueMeter()\n",
    "    meter.reset()\n",
    "    y_pred = []\n",
    "    y_true = []\n",
    "    for headlines, bodies, tfidf_sim, labels in tqdm(data_iter):\n",
    "        opt.zero_grad()\n",
    "        headlines = torch.from_numpy(headlines).cuda().long()\n",
    "        bodies = torch.from_numpy(bodies).cuda().long()\n",
    "        tfidf_sim = torch.from_numpy(tfidf_sim).cuda().float()\n",
    "        y_true.extend(labels)\n",
    "        labels = torch.from_numpy(labels).cuda().long()\n",
    "        out, _, _ = model(headlines, bodies, tfidf_sim)\n",
    "        _, index = torch.max(out, dim=1)\n",
    "        y_pred.extend(index.cpu().data.numpy())\n",
    "        loss = loss_fun(out, labels)\n",
    "        loss.backward()\n",
    "        clip_grad_norm_(model.parameters(), 1.0)\n",
    "        opt.step()\n",
    "        meter.add(loss.item())\n",
    "    return meter.value()[0]\n",
    "\n",
    "def val_model(model, data_iter, loss_fun):\n",
    "    model.eval()\n",
    "    meter = tnt.meter.AverageValueMeter()\n",
    "    meter.reset()\n",
    "    y_pred = []\n",
    "    y_true = []\n",
    "    with torch.no_grad():\n",
    "        for headlines, bodies, tfidf_sim, labels in tqdm(data_iter):\n",
    "            headlines = torch.from_numpy(headlines).cuda().long()\n",
    "            bodies = torch.from_numpy(bodies).cuda().long()\n",
    "            tfidf_sim = torch.from_numpy(tfidf_sim).cuda().float()\n",
    "            y_true.extend(labels)\n",
    "            labels = torch.from_numpy(labels).cuda().long()\n",
    "            out, _, _ = model(headlines, bodies, tfidf_sim)\n",
    "            _, index = torch.max(out, dim=1)\n",
    "            y_pred.extend(index.cpu().data.numpy())\n",
    "            loss = loss_fun(out, labels)\n",
    "            meter.add(loss.item())\n",
    "\n",
    "    model.train()\n",
    "    return meter.value()[0]\n",
    "\n",
    "def test_model(model, data_iter):\n",
    "    model.eval()\n",
    "    y_pred = []\n",
    "    y_true = []\n",
    "    with torch.no_grad():\n",
    "        for headlines, bodies, tfidf_sim, labels in tqdm(data_iter):\n",
    "            headlines = torch.from_numpy(headlines).cuda().long()\n",
    "            bodies = torch.from_numpy(bodies).cuda().long()\n",
    "            tfidf_sim = torch.from_numpy(tfidf_sim).cuda().float()\n",
    "            y_true.extend(labels)\n",
    "            labels = torch.from_numpy(labels).cuda().long()\n",
    "            out, _, _ = model(headlines, bodies, tfidf_sim)\n",
    "            _, index = torch.max(out, dim=1)\n",
    "            y_pred.extend(index.cpu().data.numpy())\n",
    "\n",
    "    model.train()\n",
    "    print('classification report:')\n",
    "    print('accuracy: %.3f' % accuracy_score(y_true, y_pred))\n",
    "    print(classification_report(y_true, y_pred))\n",
    "    print('macro f1: %.3f' % f1_score(y_true, y_pred, average='macro'))\n",
    "    print('score: %.3f' % (get_score(y_true, y_pred) / get_score(y_true, y_true)))\n",
    "    \n",
    "def my_plot(data):\n",
    "    plt.plot(data['train'])\n",
    "    plt.plot(data['val'])\n",
    "    plt.legend(['train', 'val'])\n",
    "    plt.show()\n",
    "    print('best epoch num: %s loss: %.3f' % (np.argmin(data['val']) +1, min(data['val'])))\n",
    "    \n",
    "def test_get_batch(data_iter):\n",
    "    for headlines, bodies, tfidf, labels in tqdm(data_iter):\n",
    "        #print(headlines.shape)\n",
    "        print(bodies.shape)\n",
    "        #print(labels.shape)\n",
    "#test_get_batch(get_batch_v2('./tmp/val_ids.pkl', './tmp/tfidf_sim.pkl', 'val', batch_size=64, max_len_b=100))"
   ]
  },
  {
   "cell_type": "code",
   "execution_count": 3,
   "metadata": {
    "collapsed": true
   },
   "outputs": [],
   "source": [
    "class EsimPlus(nn.Module):\n",
    "        \"\"\"docstring for EsimPlus\"\"\"\n",
    "        def __init__(self, pretrained, hid_size=100):\n",
    "            super(EsimPlus, self).__init__()\n",
    "            vocab_size, emb_size = pretrained.shape\n",
    "            self.embedding = nn.Embedding.from_pretrained(torch.from_numpy(pretrained).float())\n",
    "            self.gru_enc1 = nn.LSTM(input_size=emb_size, hidden_size=hid_size, \n",
    "                batch_first=True, bidirectional=True)\n",
    "            self.gru_comp1 = nn.LSTM(input_size=hid_size * 8, hidden_size=hid_size, \n",
    "                batch_first=True, bidirectional=True)\n",
    "\n",
    "            self.fc1 = nn.Linear(hid_size * 8, hid_size)\n",
    "            self.fc2 = nn.Linear(hid_size + 1, hid_size + 1)\n",
    "            self.last_layer = nn.Linear(hid_size + 1, 4)\n",
    "\n",
    "        def forward(self, x1, x2, tfidf_sim):\n",
    "            # to shape B * T1 * T2\n",
    "            x1_mask = x1.eq(0).unsqueeze(2)\n",
    "            x2_mask = x2.eq(0).unsqueeze(1)\n",
    "            \n",
    "            x1 = self.embedding(x1)\n",
    "            x2 = self.embedding(x2)\n",
    "\n",
    "            x1, h1 = self.gru_enc1(x1)\n",
    "            x2, h2 = self.gru_enc1(x2)\n",
    "\n",
    "            # attention\n",
    "            x2_t = torch.transpose(x2, 1, 2)\n",
    "            attention = torch.bmm(x1, x2_t)\n",
    "            \n",
    "            attention.masked_fill_(x1_mask, 1e-6).masked_fill_(x2_mask, 1e-6)\n",
    "            w1_attn = F.softmax(attention, dim=2)\n",
    "            w2_attn = F.softmax(attention, dim=1)\n",
    "            w2_attn_t = torch.transpose(w2_attn, 1, 2)\n",
    "\n",
    "            x1_attn = torch.matmul(w1_attn, x2)\n",
    "            x2_attn = torch.matmul(w2_attn_t, x1)\n",
    "\n",
    "            x1_sub = x1 - x1_attn\n",
    "            x2_sub = x2 - x2_attn\n",
    "\n",
    "            x1_mul = x1 * x1_attn\n",
    "            x2_mul = x2 * x2_attn\n",
    "\n",
    "            x1_concat = torch.cat((x1, x1_attn, x1_sub, x1_mul), 2)\n",
    "            x2_concat = torch.cat((x2, x2_attn, x2_sub, x2_mul), 2)\n",
    "\n",
    "            x1_concat, _ = self.gru_comp1(x1_concat)\n",
    "            x2_concat, _ = self.gru_comp1(x2_concat)\n",
    "\n",
    "            x1_max_pooling, _ = torch.max(x1_concat, 1)\n",
    "            x2_max_pooling, _ = torch.max(x2_concat, 1)\n",
    "            x1_avg_pooling = torch.mean(x1_concat, 1)\n",
    "            x2_avg_pooling = torch.mean(x2_concat, 1)\n",
    "\n",
    "            x = torch.cat((x1_max_pooling, x1_avg_pooling, x2_max_pooling, x2_avg_pooling), 1)\n",
    "            x = F.relu(self.fc1(x))\n",
    "            x = F.dropout(x, p=0.5, training=self.training)\n",
    "            \n",
    "            x = torch.cat((x, tfidf_sim), dim=1)\n",
    "            x = F.relu(self.fc2(x))\n",
    "            x = F.dropout(x, p=0.5, training=self.training)\n",
    "            x = F.softmax(self.last_layer(x))\n",
    "            return x, w1_attn, w2_attn"
   ]
  },
  {
   "cell_type": "code",
   "execution_count": 4,
   "metadata": {
    "collapsed": true
   },
   "outputs": [],
   "source": [
    "pretrained_file_name = './tmp/pretrained.pkl'\n",
    "train_filename = './tmp/train_ids.pkl'\n",
    "val_filename = './tmp/val_ids.pkl'\n",
    "test_filename = './tmp/test_ids.pkl'\n",
    "tfidf_filename = './tmp/tfidf_sim.pkl'\n",
    "vecs = pickle.load(open(pretrained_file_name, 'rb'))"
   ]
  },
  {
   "cell_type": "code",
   "execution_count": 5,
   "metadata": {
    "collapsed": false
   },
   "outputs": [
    {
     "name": "stdout",
     "output_type": "stream",
     "text": [
      "EsimPlus(\n",
      "  (embedding): Embedding(399670, 100)\n",
      "  (gru_enc1): LSTM(100, 100, batch_first=True, bidirectional=True)\n",
      "  (gru_comp1): LSTM(800, 100, batch_first=True, bidirectional=True)\n",
      "  (fc1): Linear(in_features=800, out_features=100, bias=True)\n",
      "  (fc2): Linear(in_features=101, out_features=101, bias=True)\n",
      "  (last_layer): Linear(in_features=101, out_features=4, bias=True)\n",
      ")\n"
     ]
    },
    {
     "name": "stderr",
     "output_type": "stream",
     "text": [
      "Widget Javascript not detected.  It may not be installed properly. Did you enable the widgetsnbextension? If not, then run \"jupyter nbextension enable --py --sys-prefix widgetsnbextension\"\n"
     ]
    },
    {
     "name": "stdout",
     "output_type": "stream",
     "text": [
      "\n"
     ]
    },
    {
     "name": "stderr",
     "output_type": "stream",
     "text": [
      "Widget Javascript not detected.  It may not be installed properly. Did you enable the widgetsnbextension? If not, then run \"jupyter nbextension enable --py --sys-prefix widgetsnbextension\"\n"
     ]
    },
    {
     "name": "stdout",
     "output_type": "stream",
     "text": [
      "\n"
     ]
    },
    {
     "name": "stderr",
     "output_type": "stream",
     "text": [
      "Widget Javascript not detected.  It may not be installed properly. Did you enable the widgetsnbextension? If not, then run \"jupyter nbextension enable --py --sys-prefix widgetsnbextension\"\n"
     ]
    },
    {
     "name": "stdout",
     "output_type": "stream",
     "text": [
      "\n"
     ]
    },
    {
     "name": "stderr",
     "output_type": "stream",
     "text": [
      "Widget Javascript not detected.  It may not be installed properly. Did you enable the widgetsnbextension? If not, then run \"jupyter nbextension enable --py --sys-prefix widgetsnbextension\"\n"
     ]
    },
    {
     "name": "stdout",
     "output_type": "stream",
     "text": [
      "\n"
     ]
    },
    {
     "name": "stderr",
     "output_type": "stream",
     "text": [
      "Widget Javascript not detected.  It may not be installed properly. Did you enable the widgetsnbextension? If not, then run \"jupyter nbextension enable --py --sys-prefix widgetsnbextension\"\n"
     ]
    },
    {
     "name": "stdout",
     "output_type": "stream",
     "text": [
      "\n"
     ]
    },
    {
     "name": "stderr",
     "output_type": "stream",
     "text": [
      "Widget Javascript not detected.  It may not be installed properly. Did you enable the widgetsnbextension? If not, then run \"jupyter nbextension enable --py --sys-prefix widgetsnbextension\"\n"
     ]
    },
    {
     "name": "stdout",
     "output_type": "stream",
     "text": [
      "\n"
     ]
    },
    {
     "name": "stderr",
     "output_type": "stream",
     "text": [
      "Widget Javascript not detected.  It may not be installed properly. Did you enable the widgetsnbextension? If not, then run \"jupyter nbextension enable --py --sys-prefix widgetsnbextension\"\n"
     ]
    },
    {
     "name": "stdout",
     "output_type": "stream",
     "text": [
      "\n"
     ]
    },
    {
     "name": "stderr",
     "output_type": "stream",
     "text": [
      "Widget Javascript not detected.  It may not be installed properly. Did you enable the widgetsnbextension? If not, then run \"jupyter nbextension enable --py --sys-prefix widgetsnbextension\"\n"
     ]
    },
    {
     "name": "stdout",
     "output_type": "stream",
     "text": [
      "\n"
     ]
    },
    {
     "name": "stderr",
     "output_type": "stream",
     "text": [
      "Widget Javascript not detected.  It may not be installed properly. Did you enable the widgetsnbextension? If not, then run \"jupyter nbextension enable --py --sys-prefix widgetsnbextension\"\n"
     ]
    },
    {
     "name": "stdout",
     "output_type": "stream",
     "text": [
      "\n"
     ]
    },
    {
     "name": "stderr",
     "output_type": "stream",
     "text": [
      "Widget Javascript not detected.  It may not be installed properly. Did you enable the widgetsnbextension? If not, then run \"jupyter nbextension enable --py --sys-prefix widgetsnbextension\"\n"
     ]
    },
    {
     "name": "stdout",
     "output_type": "stream",
     "text": [
      "\n"
     ]
    },
    {
     "name": "stderr",
     "output_type": "stream",
     "text": [
      "Widget Javascript not detected.  It may not be installed properly. Did you enable the widgetsnbextension? If not, then run \"jupyter nbextension enable --py --sys-prefix widgetsnbextension\"\n"
     ]
    },
    {
     "name": "stdout",
     "output_type": "stream",
     "text": [
      "\n"
     ]
    },
    {
     "name": "stderr",
     "output_type": "stream",
     "text": [
      "Widget Javascript not detected.  It may not be installed properly. Did you enable the widgetsnbextension? If not, then run \"jupyter nbextension enable --py --sys-prefix widgetsnbextension\"\n"
     ]
    },
    {
     "name": "stdout",
     "output_type": "stream",
     "text": [
      "\n"
     ]
    },
    {
     "name": "stderr",
     "output_type": "stream",
     "text": [
      "Widget Javascript not detected.  It may not be installed properly. Did you enable the widgetsnbextension? If not, then run \"jupyter nbextension enable --py --sys-prefix widgetsnbextension\"\n"
     ]
    },
    {
     "name": "stdout",
     "output_type": "stream",
     "text": [
      "\n"
     ]
    },
    {
     "name": "stderr",
     "output_type": "stream",
     "text": [
      "Widget Javascript not detected.  It may not be installed properly. Did you enable the widgetsnbextension? If not, then run \"jupyter nbextension enable --py --sys-prefix widgetsnbextension\"\n"
     ]
    },
    {
     "name": "stdout",
     "output_type": "stream",
     "text": [
      "\n"
     ]
    },
    {
     "name": "stderr",
     "output_type": "stream",
     "text": [
      "Widget Javascript not detected.  It may not be installed properly. Did you enable the widgetsnbextension? If not, then run \"jupyter nbextension enable --py --sys-prefix widgetsnbextension\"\n"
     ]
    },
    {
     "name": "stdout",
     "output_type": "stream",
     "text": [
      "\n"
     ]
    },
    {
     "name": "stderr",
     "output_type": "stream",
     "text": [
      "Widget Javascript not detected.  It may not be installed properly. Did you enable the widgetsnbextension? If not, then run \"jupyter nbextension enable --py --sys-prefix widgetsnbextension\"\n"
     ]
    },
    {
     "name": "stdout",
     "output_type": "stream",
     "text": [
      "\n",
      "Epoch     7: reducing learning rate of group 0 to 1.0000e-04.\n"
     ]
    },
    {
     "name": "stderr",
     "output_type": "stream",
     "text": [
      "Widget Javascript not detected.  It may not be installed properly. Did you enable the widgetsnbextension? If not, then run \"jupyter nbextension enable --py --sys-prefix widgetsnbextension\"\n"
     ]
    },
    {
     "name": "stdout",
     "output_type": "stream",
     "text": [
      "\n"
     ]
    },
    {
     "name": "stderr",
     "output_type": "stream",
     "text": [
      "Widget Javascript not detected.  It may not be installed properly. Did you enable the widgetsnbextension? If not, then run \"jupyter nbextension enable --py --sys-prefix widgetsnbextension\"\n"
     ]
    },
    {
     "name": "stdout",
     "output_type": "stream",
     "text": [
      "\n",
      "Epoch     8: reducing learning rate of group 0 to 1.0000e-05.\n"
     ]
    },
    {
     "name": "stderr",
     "output_type": "stream",
     "text": [
      "Widget Javascript not detected.  It may not be installed properly. Did you enable the widgetsnbextension? If not, then run \"jupyter nbextension enable --py --sys-prefix widgetsnbextension\"\n"
     ]
    },
    {
     "name": "stdout",
     "output_type": "stream",
     "text": [
      "\n"
     ]
    },
    {
     "name": "stderr",
     "output_type": "stream",
     "text": [
      "Widget Javascript not detected.  It may not be installed properly. Did you enable the widgetsnbextension? If not, then run \"jupyter nbextension enable --py --sys-prefix widgetsnbextension\"\n"
     ]
    },
    {
     "name": "stdout",
     "output_type": "stream",
     "text": [
      "\n",
      "Epoch     9: reducing learning rate of group 0 to 1.0000e-06.\n"
     ]
    },
    {
     "data": {
      "image/png": "[encoded data removed]",
      "text/plain": [
       "<matplotlib.figure.Figure at 0x1584e611eb8>"
      ]
     },
     "metadata": {},
     "output_type": "display_data"
    },
    {
     "name": "stdout",
     "output_type": "stream",
     "text": [
      "best epoch num: 7 loss: 0.074\n"
     ]
    }
   ],
   "source": [
    "torch.manual_seed(42)\n",
    "torch.backends.cudnn.deterministic = True\n",
    "np.random.seed(42)\n",
    "model_name = 'Esim_plus'\n",
    "if model_name == 'EmbeddingBag':\n",
    "    model = EmbeddingBag(vecs).cuda()\n",
    "elif model_name == 'CE':\n",
    "    model = CE(vecs).cuda()\n",
    "elif model_name == 'IE':\n",
    "    model = IE(vecs).cuda()\n",
    "elif model_name == 'Esim_plus':\n",
    "    model = EsimPlus(vecs).cuda()\n",
    "elif model_name == 'Dattn':\n",
    "    model = Dattn(vecs).cuda()\n",
    "elif model_name == 'Declare':\n",
    "    model = Declare(vecs).cuda()\n",
    "    \n",
    "print(model)\n",
    "opt = Adam(model.parameters(), lr=1e-3, weight_decay=1e-8)\n",
    "weight = torch.Tensor([3, 3, 3, 1])\n",
    "#loss_fun = nn.CrossEntropyLoss(weight)\n",
    "scheduler = ReduceLROnPlateau(opt, 'min', factor=0.1, patience=0, verbose=True)\n",
    "loss_fun = FocalLoss(gamma=5)\n",
    "loss_fun.cuda()\n",
    "epochs = 10\n",
    "history = {'train':[], 'val': []}\n",
    "min_loss = 100.1\n",
    "\n",
    "for epoch in range(epochs):\n",
    "    #print(f\"epoch: {epoch + 1}/{epochs}\")\n",
    "    train_loss = train_model(model, get_batch_v2(train_filename, tfidf_filename, 'train', batch_size=64, max_len_b=100), loss_fun, opt)\n",
    "    val_loss = val_model(model, get_batch_v2(val_filename, tfidf_filename, 'val', batch_size=64, max_len_b=100), loss_fun)\n",
    "    if val_loss < min_loss:\n",
    "        torch.save(model.state_dict(), './models/%s_%s_%.3f' % (model_name, epoch + 1, val_loss))\n",
    "        \n",
    "    scheduler.step(val_loss)\n",
    "    history['train'].append(train_loss)\n",
    "    history['val'].append(val_loss)\n",
    "    \n",
    "my_plot(history)"
   ]
  },
  {
   "cell_type": "code",
   "execution_count": null,
   "metadata": {
    "collapsed": true
   },
   "outputs": [],
   "source": [
    "model_name = 'Esim'\n",
    "if model_name == 'EmbeddingBag':\n",
    "    model = EmbeddingBag(vecs).cuda()\n",
    "elif model_name == 'CE':\n",
    "    model = CE(vecs).cuda()\n",
    "elif model_name == 'IE':\n",
    "    model = IE(vecs).cuda()\n",
    "elif model_name == 'Esim':\n",
    "    model = Esim(vecs).cuda()\n",
    "elif model_name == 'Dattn':\n",
    "    model = Dattn(vecs).cuda()\n",
    "elif model_name == 'Declare':\n",
    "    model = Declare(vecs).cuda()\n",
    "\n",
    "model.load_state_dict(torch.load('./models/Esim_10_0.069'))\n",
    "test_model(model, get_batch(val_filename, batch_size=64, max_len_b=200))\n",
    "print('*' * 50)\n",
    "test_model(model, get_batch(test_filename, batch_size=64, max_len_b=200))"
   ]
  }
 ],
 "metadata": {
  "kernelspec": {
   "display_name": "Python 3",
   "language": "python",
   "name": "python3"
  },
  "language_info": {
   "codemirror_mode": {
    "name": "ipython",
    "version": 3
   },
   "file_extension": ".py",
   "mimetype": "text/x-python",
   "name": "python",
   "nbconvert_exporter": "python",
   "pygments_lexer": "ipython3",
   "version": "3.6.0"
  },
  "widgets": {
   "state": {
    "05d3f60c04bf4d05927816fbad3f48e5": {
     "views": [
      {
       "cell_index": 4
      }
     ]
    },
    "132bea3f067c441c9d96941411808c14": {
     "views": [
      {
       "cell_index": 4
      }
     ]
    },
    "1848d02425eb49bd99b9924eacc08d3b": {
     "views": [
      {
       "cell_index": 4
      }
     ]
    },
    "1ac25778fa3943198aae372f84cadb7b": {
     "views": [
      {
       "cell_index": 4
      }
     ]
    },
    "1c0919af4a384bccbf6eb499bbac2c48": {
     "views": [
      {
       "cell_index": 4
      }
     ]
    },
    "20d85df8ab5341b289399b420c909dc9": {
     "views": [
      {
       "cell_index": 4
      }
     ]
    },
    "23e689b38bb14d35a04153ab21dcec49": {
     "views": [
      {
       "cell_index": 4
      }
     ]
    },
    "2b387fa801ed4566aeaccd8f840e24f9": {
     "views": [
      {
       "cell_index": 4
      }
     ]
    },
    "2ebbaf9ce907464d823858508837b619": {
     "views": [
      {
       "cell_index": 4
      }
     ]
    },
    "33a0714224be4cbeabbe628677cf0c72": {
     "views": [
      {
       "cell_index": 4
      }
     ]
    },
    "34259c43bd2c4b26845b0849d36c75df": {
     "views": [
      {
       "cell_index": 4
      }
     ]
    },
    "4ce3bde1eb93473e803104f5d26550ce": {
     "views": [
      {
       "cell_index": 4
      }
     ]
    },
    "4cfefa7cea1944c3a597b21dec5b127b": {
     "views": [
      {
       "cell_index": 4
      }
     ]
    },
    "5f9ea57a93ce4966b6c5391150e222ea": {
     "views": [
      {
       "cell_index": 4
      }
     ]
    },
    "5fa482752e40411f91debd40e414ba1d": {
     "views": [
      {
       "cell_index": 4
      }
     ]
    },
    "61ff402c79814340847b92939af32a1f": {
     "views": [
      {
       "cell_index": 4
      }
     ]
    },
    "7312de5748eb4416b41ced9140f7b4e9": {
     "views": [
      {
       "cell_index": 4
      }
     ]
    },
    "7ec9cbc4f8e14982ba90000255537745": {
     "views": [
      {
       "cell_index": 4
      }
     ]
    },
    "863cc7f154f942198e0eb87be4972638": {
     "views": [
      {
       "cell_index": 4
      }
     ]
    },
    "a3e69e15ff4c4e33997b48b235fad0c8": {
     "views": [
      {
       "cell_index": 4
      }
     ]
    },
    "a5a9e690312c45398378cd7d47b006e5": {
     "views": [
      {
       "cell_index": 4
      }
     ]
    },
    "ac976b4ae0234286839fd44cd0118235": {
     "views": [
      {
       "cell_index": 4
      }
     ]
    },
    "b4a04eff475c49f793094dd69fce028b": {
     "views": [
      {
       "cell_index": 4
      }
     ]
    },
    "c30684f551674d308c22ff898c82947c": {
     "views": [
      {
       "cell_index": 4
      }
     ]
    },
    "cc705efa2dcf40d2b2cfeef592baca34": {
     "views": [
      {
       "cell_index": 4
      }
     ]
    },
    "d771ae59840342bbb6b313ec12dfc232": {
     "views": [
      {
       "cell_index": 4
      }
     ]
    },
    "d82bd2b017fb4c7f90db046ac2a0d66f": {
     "views": [
      {
       "cell_index": 4
      }
     ]
    },
    "d886079a19c844e1a1270b31441fceef": {
     "views": [
      {
       "cell_index": 4
      }
     ]
    },
    "f86dc363d4534ae4ac4ec80bfc692154": {
     "views": [
      {
       "cell_index": 4
      }
     ]
    },
    "fde573a361f046589c88bb7af37f7f02": {
     "views": [
      {
       "cell_index": 4
      }
     ]
    }
   },
   "version": "1.2.0"
  }
 },
 "nbformat": 4,
 "nbformat_minor": 2
}
