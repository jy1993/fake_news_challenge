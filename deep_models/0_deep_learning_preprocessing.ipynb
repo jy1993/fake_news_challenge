{
 "cells": [
  {
   "cell_type": "code",
   "execution_count": 1,
   "metadata": {
    "collapsed": false
   },
   "outputs": [
    {
     "name": "stderr",
     "output_type": "stream",
     "text": [
      "Using CNTK backend\n"
     ]
    },
    {
     "name": "stdout",
     "output_type": "stream",
     "text": [
      "using gpu\n"
     ]
    }
   ],
   "source": [
    "import torch\n",
    "from torch import nn\n",
    "import torch.nn.functional as F\n",
    "from torch.autograd import Variable\n",
    "from torch.optim import Adam, SGD\n",
    "from torch.utils.data import DataLoader, Dataset\n",
    "from torch.nn.utils import clip_grad_norm_\n",
    "import pandas as pd\n",
    "import numpy as np\n",
    "from sklearn.metrics import classification_report, f1_score, accuracy_score\n",
    "from tqdm import tqdm_notebook as tqdm\n",
    "import torchnet as tnt\n",
    "from nltk import tokenize\n",
    "#from keras.preprocessing.sequence import pad_sequences\n",
    "import warnings\n",
    "warnings.filterwarnings('ignore')\n",
    "from utils import *\n",
    "import pickle\n",
    "import matplotlib.pyplot as plt\n",
    "%matplotlib inline \n",
    "from models import *\n",
    "import string"
   ]
  },
  {
   "cell_type": "code",
   "execution_count": 2,
   "metadata": {
    "collapsed": true
   },
   "outputs": [],
   "source": [
    "stopwords = []\n",
    "word2vec, vecs = load_word2vec('./data/glove.6B.100d.txt', stopwords)\n",
    "word2id = dict(zip(word2vec.keys(), range(1, len(word2vec) + 1)))\n",
    "\n",
    "pickle.dump(word2id, open('./tmp/word2id_all_words.pkl', 'wb'))\n",
    "pickle.dump(vecs, open('./tmp/pretrained_all_words.pkl', 'wb'))"
   ]
  },
  {
   "cell_type": "code",
   "execution_count": 3,
   "metadata": {
    "collapsed": false
   },
   "outputs": [
    {
     "name": "stdout",
     "output_type": "stream",
     "text": [
      "(40350, 4)\n",
      "(9622, 4)\n",
      "(49972, 4)\n",
      "(25413, 4)\n"
     ]
    }
   ],
   "source": [
    "train_bodies = pd.read_csv('./data/train_bodies.csv')\n",
    "train = pd.read_csv('./data/train_stances.csv')\n",
    "\n",
    "df_train = train.merge(train_bodies, on=['Body ID'], how='left')\n",
    "df_train.head()\n",
    "\n",
    "test_bodies = pd.read_csv('./data/competition_test_bodies.csv')\n",
    "test = pd.read_csv('./data/competition_test_stances.csv')\n",
    "\n",
    "df_test = test.merge(test_bodies, on=['Body ID'], how='left')\n",
    "df_test.head()\n",
    "\n",
    "train_ids = [int(v) for v in open('./data/training_ids.txt').read().strip().split('\\n')]\n",
    "val_ids = [int(v) for v in open('./data/hold_out_ids.txt').read().strip().split('\\n')]\n",
    "        \n",
    "df_train_a = df_train[df_train['Body ID'].isin(train_ids)]\n",
    "df_train_b = df_train[df_train['Body ID'].isin(val_ids)]\n",
    "print(df_train_a.shape)\n",
    "print(df_train_b.shape)\n",
    "print(df_train.shape)\n",
    "print(df_test.shape)"
   ]
  },
  {
   "cell_type": "code",
   "execution_count": 4,
   "metadata": {
    "collapsed": false
   },
   "outputs": [],
   "source": [
    "train_headlines, train_bodies = to_ids(df_train_a, word2id)\n",
    "label_2_id = {'agree': 0, 'disagree': 1, 'discuss':2, 'unrelated': 3}\n",
    "pickle.dump({'h': train_headlines, 'b': train_bodies, 'y': df_train_a['Stance'].map(lambda x: label_2_id[x]).values}, \n",
    "            open('./tmp/train_ids_all_words.pkl', 'wb'))\n",
    "\n",
    "val_headlines, val_bodies = to_ids(df_train_b, word2id)\n",
    "pickle.dump({'h': val_headlines, 'b': val_bodies, 'y': df_train_b['Stance'].map(lambda x: label_2_id[x]).values}, \n",
    "            open('./tmp/val_ids_all_words.pkl', 'wb'))\n",
    "\n",
    "test_headlines, test_bodies = to_ids(df_test, word2id)\n",
    "label_2_id = {'agree': 0, 'disagree': 1, 'discuss':2, 'unrelated': 3}\n",
    "pickle.dump({'h': test_headlines, 'b': test_bodies, 'y': df_test['Stance'].map(lambda x: label_2_id[x]).values}, \n",
    "            open('./tmp/test_ids_all_words.pkl', 'wb'))"
   ]
  },
  {
   "cell_type": "code",
   "execution_count": null,
   "metadata": {
    "collapsed": true
   },
   "outputs": [],
   "source": []
  }
 ],
 "metadata": {
  "kernelspec": {
   "display_name": "Python 3",
   "language": "python",
   "name": "python3"
  },
  "language_info": {
   "codemirror_mode": {
    "name": "ipython",
    "version": 3
   },
   "file_extension": ".py",
   "mimetype": "text/x-python",
   "name": "python",
   "nbconvert_exporter": "python",
   "pygments_lexer": "ipython3",
   "version": "3.6.0"
  }
 },
 "nbformat": 4,
 "nbformat_minor": 2
}
