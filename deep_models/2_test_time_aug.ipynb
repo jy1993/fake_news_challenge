{
 "cells": [
  {
   "cell_type": "code",
   "execution_count": null,
   "metadata": {
    "collapsed": true
   },
   "outputs": [],
   "source": [
    "model_name = 'Esim'\n",
    "if model_name == 'EmbeddingBag':\n",
    "    model = EmbeddingBag(vecs).cuda()\n",
    "elif model_name == 'Esim':\n",
    "    model = Esim(vecs).cuda()\n",
    "model.load_state_dict(torch.load('./models/Esim_2_acc_0.774'))\n",
    "y_preds, y_trues = predict_proba(model, test_batch(test_filename, data_aug=True))"
   ]
  },
  {
   "cell_type": "code",
   "execution_count": null,
   "metadata": {
    "collapsed": true
   },
   "outputs": [],
   "source": [
    "rows = int(y_preds.shape[0]/2)\n",
    "first_half, second_half = y_preds[:rows, :], y_preds[rows:, :]\n",
    "print(first_half.shape, second_half.shape)\n",
    "y_true = y_trues[:rows]"
   ]
  },
  {
   "cell_type": "code",
   "execution_count": null,
   "metadata": {
    "collapsed": true
   },
   "outputs": [],
   "source": [
    "y_pred = first_half + second_half\n",
    "y_pred = np.argmax(y_pred, axis=1)\n",
    "score = get_score(y_true, y_pred) / get_score(y_true, y_true)\n",
    "\n",
    "print('classification report:')\n",
    "print('accuracy: %.3f' % accuracy_score(y_true, y_pred))\n",
    "print(classification_report(y_true, y_pred))\n",
    "print('macro f1: %.3f' % f1_score(y_true, y_pred, average='macro'))\n",
    "print('score: %.3f' % score)"
   ]
  }
 ],
 "metadata": {
  "kernelspec": {
   "display_name": "Python 3",
   "language": "python",
   "name": "python3"
  },
  "language_info": {
   "codemirror_mode": {
    "name": "ipython",
    "version": 3
   },
   "file_extension": ".py",
   "mimetype": "text/x-python",
   "name": "python",
   "nbconvert_exporter": "python",
   "pygments_lexer": "ipython3",
   "version": "3.6.0"
  }
 },
 "nbformat": 4,
 "nbformat_minor": 2
}
