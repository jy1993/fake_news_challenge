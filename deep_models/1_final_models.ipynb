{
 "cells": [
  {
   "cell_type": "code",
   "execution_count": 1,
   "metadata": {
    "collapsed": false
   },
   "outputs": [
    {
     "name": "stderr",
     "output_type": "stream",
     "text": [
      "Using CNTK backend\n"
     ]
    },
    {
     "name": "stdout",
     "output_type": "stream",
     "text": [
      "using gpu\n"
     ]
    }
   ],
   "source": [
    "import torch\n",
    "from torch import nn\n",
    "import torch.nn.functional as F\n",
    "from torch.optim import Adam, SGD\n",
    "from torch.utils.data import DataLoader, Dataset\n",
    "from torch.optim.lr_scheduler import ReduceLROnPlateau, StepLR\n",
    "from torch.nn.utils import clip_grad_norm_\n",
    "import pandas as pd\n",
    "import numpy as np\n",
    "from sklearn.metrics import classification_report, f1_score, accuracy_score\n",
    "from tqdm import tqdm_notebook as tqdm\n",
    "import torchnet as tnt\n",
    "#from keras.preprocessing.sequence import pad_sequences\n",
    "import warnings\n",
    "warnings.filterwarnings('ignore')\n",
    "from utils import *\n",
    "import matplotlib.pyplot as plt\n",
    "%matplotlib inline \n",
    "from deep_models import *\n",
    "\n",
    "random_seed = 12345\n",
    "torch.manual_seed(random_seed)\n",
    "torch.backends.cudnn.deterministic = True\n",
    "np.random.seed(random_seed)"
   ]
  },
  {
   "cell_type": "code",
   "execution_count": 2,
   "metadata": {
    "collapsed": true
   },
   "outputs": [],
   "source": [
    "def train_model(model, data_iter, loss_fun, opt):\n",
    "    model.train()\n",
    "    meter = tnt.meter.AverageValueMeter()\n",
    "    meter.reset()\n",
    "    y_pred = []\n",
    "    y_true = []\n",
    "    for headlines, bodies, labels in tqdm(data_iter):\n",
    "        opt.zero_grad()\n",
    "        headlines = torch.from_numpy(headlines).cuda().long()\n",
    "        bodies = torch.from_numpy(bodies).cuda().long()\n",
    "        y_true.extend(labels)\n",
    "        labels = torch.from_numpy(labels).cuda().long()\n",
    "        out, _, _ = model(headlines, bodies)\n",
    "        _, index = torch.max(out, dim=1)\n",
    "        y_pred.extend(index.cpu().data.numpy())\n",
    "        loss = loss_fun(out, labels)\n",
    "        loss.backward()\n",
    "        clip_grad_norm_(model.parameters(), 1.0)\n",
    "        opt.step()\n",
    "        meter.add(loss.item())\n",
    "    return meter.value()[0]\n",
    "\n",
    "def val_model(model, data_iter, loss_fun):\n",
    "    model.eval()\n",
    "    meter = tnt.meter.AverageValueMeter()\n",
    "    meter.reset()\n",
    "    y_pred = []\n",
    "    y_true = []\n",
    "    with torch.no_grad():\n",
    "        for headlines, bodies, labels in tqdm(data_iter):\n",
    "            headlines = torch.from_numpy(headlines).cuda().long()\n",
    "            bodies = torch.from_numpy(bodies).cuda().long()\n",
    "            y_true.extend(labels)\n",
    "            labels = torch.from_numpy(labels).cuda().long()\n",
    "            out, _, _ = model(headlines, bodies)\n",
    "            _, index = torch.max(out, dim=1)\n",
    "            y_pred.extend(index.cpu().data.numpy())\n",
    "            loss = loss_fun(out, labels)\n",
    "            meter.add(loss.item())\n",
    "    score = get_score(y_true, y_pred) / get_score(y_true, y_true)\n",
    "\n",
    "    model.train()\n",
    "    return meter.value()[0], score\n",
    "\n",
    "def test_model(model, data_iter):\n",
    "    model.eval()\n",
    "    y_pred = []\n",
    "    y_true = []\n",
    "    with torch.no_grad():\n",
    "        for headlines, bodies, labels in tqdm(data_iter):\n",
    "            headlines = torch.from_numpy(headlines).cuda().long()\n",
    "            bodies = torch.from_numpy(bodies).cuda().long()\n",
    "            y_true.extend(labels)\n",
    "            labels = torch.from_numpy(labels).cuda().long()\n",
    "            out, _, _ = model(headlines, bodies)\n",
    "            _, index = torch.max(out, dim=1)\n",
    "            y_pred.extend(index.cpu().data.numpy())\n",
    "    \n",
    "    score = get_score(y_true, y_pred) / get_score(y_true, y_true)\n",
    "    model.train()\n",
    "    print('-' * 50)\n",
    "    print('classification report:')\n",
    "    print('accuracy: %.3f' % accuracy_score(y_true, y_pred))\n",
    "    print(classification_report(y_true, y_pred))\n",
    "    print('macro f1: %.3f' % f1_score(y_true, y_pred, average='macro'))\n",
    "    print('score: %.3f' % score)\n",
    "    return score\n",
    "    \n",
    "def test_get_batch(data_iter):\n",
    "    for headlines, bodies, labels in tqdm(data_iter):\n",
    "        #print(headlines.shape)\n",
    "        print(bodies.shape)\n",
    "        #print(labels.shape)\n",
    "    \n",
    "def my_plot(data):\n",
    "    plt.plot(data['train'])\n",
    "    plt.plot(data['val'])\n",
    "    plt.legend(['train', 'val'])\n",
    "    plt.show()\n",
    "    print('best epoch num: %s loss: %.3f' % (np.argmin(data['val']) +1, min(data['val'])))\n",
    "\n",
    "#test_get_batch(get_batch('./tmp/val_ids.pkl', batch_size=64, max_len_b=100))"
   ]
  },
  {
   "cell_type": "code",
   "execution_count": 3,
   "metadata": {
    "collapsed": true
   },
   "outputs": [],
   "source": [
    "pretrained_file_name = './tmp/pretrained.pkl'\n",
    "train_filename = './tmp/train_ids.pkl'\n",
    "val_filename = './tmp/val_ids.pkl'\n",
    "test_filename = './tmp/test_ids.pkl'\n",
    "vecs = pickle.load(open(pretrained_file_name, 'rb'))"
   ]
  },
  {
   "cell_type": "code",
   "execution_count": 4,
   "metadata": {
    "collapsed": true
   },
   "outputs": [],
   "source": [
    "def get_batch_all(train_filename, val_filename, batch_size=64, max_len_h=50, max_len_b=100, data_aug=False):\n",
    "        # load headline, body, stance from a file\n",
    "        train_data = pickle.load(open(train_filename, 'rb'))\n",
    "        val_data = pickle.load(open(val_filename, 'rb'))\n",
    "        headlines = np.array(train_data['h'] + val_data['h'])\n",
    "        bodies = np.array(train_data['b'] + val_data['b'])\n",
    "        y = np.array(list(train_data['y']) + list(val_data['y']))\n",
    "\n",
    "        # sorting according to the articleBodies length\n",
    "        len_b = [len(v) for v in bodies]\n",
    "        # print('articleBodies length distriubtion:')\n",
    "        # print(np.percentile(len_b, [0, 50, 95, 99, 100]))\n",
    "\n",
    "        len_h = [len(v) for v in headlines]\n",
    "        # print('headlines length distriubtion:')\n",
    "        # print(np.percentile(len_h, [0, 50, 95, 99, 100]))\n",
    "        # print('*' * 100)\n",
    "\n",
    "        indices = np.argsort(len_b)\n",
    "\n",
    "        sorted_h = headlines[indices]\n",
    "        sorted_b = bodies[indices]\n",
    "        sorted_y = y[indices]\n",
    "\n",
    "        assert len(sorted_h) == len(sorted_b) == len(sorted_y)\n",
    "\n",
    "        # using the first 200 words in articleBodies\n",
    "        for i in range(0, len(sorted_h), batch_size):\n",
    "            batch_h = sorted_h[i:i+batch_size]\n",
    "            batch_b = sorted_b[i:i+batch_size]\n",
    "            batch_y = sorted_y[i:i+batch_size]\n",
    "\n",
    "            # get max length of headlines and bodies in the batch\n",
    "            len_batch_h = [len(v) for v in batch_h]\n",
    "            len_batch_b = [len(v) for v in batch_b]\n",
    "            maxlen1 = max_len_h if max_len_h < max(len_batch_h) else max(len_batch_h)\n",
    "            maxlen2 = max_len_b if max_len_b < max(len_batch_b) else max(len_batch_b)\n",
    "\n",
    "            # padding to the max length\n",
    "            batch_h = pad_sequences(batch_h, maxlen1, padding='pre', truncating='post')\n",
    "            batch_b = pad_sequences(batch_b, maxlen2, padding='pre', truncating='post')\n",
    "            yield (batch_h, batch_b, batch_y)\n",
    "\n",
    "        # using the last 200 words in articleBodies\n",
    "        if data_aug:\n",
    "            for i in range(0, len(sorted_h), batch_size):\n",
    "                batch_h = sorted_h[i:i+batch_size]\n",
    "                batch_b = sorted_b[i:i+batch_size]\n",
    "                batch_y = sorted_y[i:i+batch_size]\n",
    "\n",
    "                # get max length of headlines and bodies in the batch\n",
    "                len_batch_h = [len(v) for v in batch_h]\n",
    "                len_batch_b = [len(v) for v in batch_b]\n",
    "                maxlen1 = max_len_h if max_len_h < max(len_batch_h) else max(len_batch_h)\n",
    "                maxlen2 = max_len_b if max_len_b < max(len_batch_b) else max(len_batch_b)\n",
    "\n",
    "                # padding to the max length\n",
    "                batch_h = pad_sequences(batch_h, maxlen1, padding='pre', truncating='pre')\n",
    "                batch_b = pad_sequences(batch_b, maxlen2, padding='pre', truncating='pre')\n",
    "                yield (batch_h, batch_b, batch_y)"
   ]
  },
  {
   "cell_type": "code",
   "execution_count": 5,
   "metadata": {
    "collapsed": true
   },
   "outputs": [
    {
     "name": "stdout",
     "output_type": "stream",
     "text": [
      "Esim(\n",
      "  (embedding): Embedding(399670, 100)\n",
      "  (gru_enc1): LSTM(100, 100, batch_first=True, bidirectional=True)\n",
      "  (gru_comp1): LSTM(800, 100, batch_first=True, bidirectional=True)\n",
      "  (fc1): Linear(in_features=800, out_features=100, bias=True)\n",
      "  (last_layer): Linear(in_features=100, out_features=4, bias=True)\n",
      ")\n"
     ]
    },
    {
     "name": "stderr",
     "output_type": "stream",
     "text": [
      "Widget Javascript not detected.  It may not be installed properly. Did you enable the widgetsnbextension? If not, then run \"jupyter nbextension enable --py --sys-prefix widgetsnbextension\"\n"
     ]
    },
    {
     "name": "stdout",
     "output_type": "stream",
     "text": [
      "\n"
     ]
    },
    {
     "name": "stderr",
     "output_type": "stream",
     "text": [
      "Widget Javascript not detected.  It may not be installed properly. Did you enable the widgetsnbextension? If not, then run \"jupyter nbextension enable --py --sys-prefix widgetsnbextension\"\n"
     ]
    },
    {
     "name": "stdout",
     "output_type": "stream",
     "text": [
      "\n",
      "--------------------------------------------------\n",
      "classification report:\n",
      "accuracy: 0.821\n",
      "             precision    recall  f1-score   support\n",
      "\n",
      "          0       0.43      0.46      0.45      1903\n",
      "          1       0.00      0.00      0.00       697\n",
      "          2       0.56      0.74      0.64      4464\n",
      "          3       0.95      0.91      0.93     18349\n",
      "\n",
      "avg / total       0.82      0.82      0.82     25413\n",
      "\n",
      "macro f1: 0.504\n",
      "score: 0.762\n"
     ]
    },
    {
     "name": "stderr",
     "output_type": "stream",
     "text": [
      "Widget Javascript not detected.  It may not be installed properly. Did you enable the widgetsnbextension? If not, then run \"jupyter nbextension enable --py --sys-prefix widgetsnbextension\"\n"
     ]
    },
    {
     "name": "stdout",
     "output_type": "stream",
     "text": [
      "\n"
     ]
    },
    {
     "name": "stderr",
     "output_type": "stream",
     "text": [
      "Widget Javascript not detected.  It may not be installed properly. Did you enable the widgetsnbextension? If not, then run \"jupyter nbextension enable --py --sys-prefix widgetsnbextension\"\n"
     ]
    },
    {
     "name": "stdout",
     "output_type": "stream",
     "text": [
      "\n",
      "--------------------------------------------------\n",
      "classification report:\n",
      "accuracy: 0.842\n",
      "             precision    recall  f1-score   support\n",
      "\n",
      "          0       0.49      0.45      0.47      1903\n",
      "          1       0.00      0.00      0.00       697\n",
      "          2       0.59      0.76      0.66      4464\n",
      "          3       0.96      0.93      0.95     18349\n",
      "\n",
      "avg / total       0.83      0.84      0.83     25413\n",
      "\n",
      "macro f1: 0.520\n",
      "score: 0.777\n"
     ]
    },
    {
     "name": "stderr",
     "output_type": "stream",
     "text": [
      "Widget Javascript not detected.  It may not be installed properly. Did you enable the widgetsnbextension? If not, then run \"jupyter nbextension enable --py --sys-prefix widgetsnbextension\"\n"
     ]
    },
    {
     "name": "stdout",
     "output_type": "stream",
     "text": [
      "\n"
     ]
    },
    {
     "name": "stderr",
     "output_type": "stream",
     "text": [
      "Widget Javascript not detected.  It may not be installed properly. Did you enable the widgetsnbextension? If not, then run \"jupyter nbextension enable --py --sys-prefix widgetsnbextension\"\n"
     ]
    },
    {
     "name": "stdout",
     "output_type": "stream",
     "text": [
      "\n",
      "--------------------------------------------------\n",
      "classification report:\n",
      "accuracy: 0.843\n",
      "             precision    recall  f1-score   support\n",
      "\n",
      "          0       0.47      0.36      0.41      1903\n",
      "          1       0.00      0.00      0.00       697\n",
      "          2       0.61      0.74      0.67      4464\n",
      "          3       0.94      0.95      0.94     18349\n",
      "\n",
      "avg / total       0.82      0.84      0.83     25413\n",
      "\n",
      "macro f1: 0.506\n",
      "score: 0.759\n",
      "Epoch     2: reducing learning rate of group 0 to 5.0000e-04.\n"
     ]
    },
    {
     "name": "stderr",
     "output_type": "stream",
     "text": [
      "Widget Javascript not detected.  It may not be installed properly. Did you enable the widgetsnbextension? If not, then run \"jupyter nbextension enable --py --sys-prefix widgetsnbextension\"\n"
     ]
    },
    {
     "name": "stdout",
     "output_type": "stream",
     "text": [
      "\n"
     ]
    },
    {
     "name": "stderr",
     "output_type": "stream",
     "text": [
      "Widget Javascript not detected.  It may not be installed properly. Did you enable the widgetsnbextension? If not, then run \"jupyter nbextension enable --py --sys-prefix widgetsnbextension\"\n"
     ]
    },
    {
     "name": "stdout",
     "output_type": "stream",
     "text": [
      "\n",
      "--------------------------------------------------\n",
      "classification report:\n",
      "accuracy: 0.833\n",
      "             precision    recall  f1-score   support\n",
      "\n",
      "          0       0.35      0.75      0.48      1903\n",
      "          1       0.00      0.00      0.00       697\n",
      "          2       0.71      0.49      0.58      4464\n",
      "          3       0.96      0.96      0.96     18349\n",
      "\n",
      "avg / total       0.85      0.83      0.83     25413\n",
      "\n",
      "macro f1: 0.505\n",
      "score: 0.747\n",
      "Epoch     3: reducing learning rate of group 0 to 2.5000e-04.\n"
     ]
    },
    {
     "name": "stderr",
     "output_type": "stream",
     "text": [
      "Widget Javascript not detected.  It may not be installed properly. Did you enable the widgetsnbextension? If not, then run \"jupyter nbextension enable --py --sys-prefix widgetsnbextension\"\n"
     ]
    },
    {
     "name": "stdout",
     "output_type": "stream",
     "text": [
      "\n"
     ]
    },
    {
     "name": "stderr",
     "output_type": "stream",
     "text": [
      "Widget Javascript not detected.  It may not be installed properly. Did you enable the widgetsnbextension? If not, then run \"jupyter nbextension enable --py --sys-prefix widgetsnbextension\"\n"
     ]
    },
    {
     "name": "stdout",
     "output_type": "stream",
     "text": [
      "\n",
      "--------------------------------------------------\n",
      "classification report:\n",
      "accuracy: 0.837\n",
      "             precision    recall  f1-score   support\n",
      "\n",
      "          0       0.36      0.73      0.48      1903\n",
      "          1       1.00      0.00      0.00       697\n",
      "          2       0.73      0.49      0.59      4464\n",
      "          3       0.95      0.96      0.96     18349\n",
      "\n",
      "avg / total       0.87      0.84      0.83     25413\n",
      "\n",
      "macro f1: 0.507\n",
      "score: 0.743\n",
      "Epoch     4: reducing learning rate of group 0 to 1.2500e-04.\n"
     ]
    }
   ],
   "source": [
    "model_name = 'Esim'\n",
    "if model_name == 'EmbeddingBag':\n",
    "    model = EmbeddingBag(vecs).cuda()\n",
    "elif model_name == 'Esim':\n",
    "    model = Esim(vecs).cuda()\n",
    "    \n",
    "print(model)\n",
    "opt = Adam(model.parameters(), lr=1e-3, weight_decay=1e-8)\n",
    "#weight = torch.Tensor([3, 3, 3, 1])\n",
    "#loss_fun = nn.CrossEntropyLoss(weight)\n",
    "scheduler = ReduceLROnPlateau(opt, mode='max', factor=0.5, patience=0, verbose=True, min_lr=1e-6)\n",
    "loss_fun = FocalLoss(gamma=5)\n",
    "loss_fun.cuda()\n",
    "epochs = 5\n",
    "history = {'train':[], 'val': []}\n",
    "min_loss = 100.1\n",
    "bst = 0\n",
    "\n",
    "for epoch in range(epochs):\n",
    "    #print(f\"epoch: {epoch + 1}/{epochs}\")\n",
    "    train_loss = train_model(model, get_batch_all(train_filename, val_filename, batch_size=64, max_len_b=100, data_aug=True), loss_fun, opt)\n",
    "    acc = test_model(model, get_batch(test_filename, batch_size=64, max_len_b=100, data_aug=False))\n",
    "    scheduler.step(acc)\n",
    "    if acc > bst:\n",
    "        torch.save(model.state_dict(), './models/%s_%s_acc_%.3f' % (model_name, epoch + 1, acc))\n",
    "        bst = acc"
   ]
  },
  {
   "cell_type": "code",
   "execution_count": 11,
   "metadata": {
    "collapsed": false
   },
   "outputs": [
    {
     "name": "stdout",
     "output_type": "stream",
     "text": [
      "\n",
      "classification report:\n",
      "accuracy: 0.843\n",
      "             precision    recall  f1-score   support\n",
      "\n",
      "          0       0.35      0.57      0.43      1903\n",
      "          1       0.00      0.00      0.00       697\n",
      "          2       0.66      0.60      0.63      4464\n",
      "          3       0.97      0.96      0.96     18344\n",
      "\n",
      "avg / total       0.84      0.84      0.84     25408\n",
      "\n",
      "macro f1: 0.507\n",
      "score: 0.762\n"
     ]
    }
   ],
   "source": [
    "model_name = 'Esim'\n",
    "if model_name == 'EmbeddingBag':\n",
    "    model = EmbeddingBag(vecs).cuda()\n",
    "elif model_name == 'CE':\n",
    "    model = CE(vecs).cuda()\n",
    "elif model_name == 'IE':\n",
    "    model = IE(vecs).cuda()\n",
    "elif model_name == 'Esim':\n",
    "    model = Esim(vecs).cuda()\n",
    "elif model_name == 'Dattn':\n",
    "    model = Dattn(vecs).cuda()\n",
    "elif model_name == 'Declare':\n",
    "    model = Declare(vecs).cuda()\n",
    "\n",
    "model.load_state_dict(torch.load('./models/Esim_2_acc_0.774'))\n",
    "test_model(model, get_batch(test_filename, batch_size=64, max_len_b=100))"
   ]
  },
  {
   "cell_type": "code",
   "execution_count": null,
   "metadata": {
    "collapsed": true
   },
   "outputs": [],
   "source": []
  }
 ],
 "metadata": {
  "kernelspec": {
   "display_name": "Python 3",
   "language": "python",
   "name": "python3"
  },
  "language_info": {
   "codemirror_mode": {
    "name": "ipython",
    "version": 3
   },
   "file_extension": ".py",
   "mimetype": "text/x-python",
   "name": "python",
   "nbconvert_exporter": "python",
   "pygments_lexer": "ipython3",
   "version": "3.6.0"
  },
  "widgets": {
   "state": {
    "038766fb5206466f92b0435542e69c60": {
     "views": [
      {
       "cell_index": 4
      }
     ]
    },
    "0749867431ec4ba5b5fe2c2b1e0a29cc": {
     "views": [
      {
       "cell_index": 4
      }
     ]
    },
    "0c782e08b4a1419fbf386bc7069e141e": {
     "views": [
      {
       "cell_index": 4
      }
     ]
    },
    "0f7a182960134eeb8f1175dacf7b4041": {
     "views": [
      {
       "cell_index": 4
      }
     ]
    },
    "18179b7c46784273ba27fce896824943": {
     "views": [
      {
       "cell_index": 4
      }
     ]
    },
    "19361940394d47e5990e0c4cc566b335": {
     "views": [
      {
       "cell_index": 4
      }
     ]
    },
    "20b200be937b45fa9b9e8c8d1f5142fc": {
     "views": [
      {
       "cell_index": 4
      }
     ]
    },
    "24ccef723e254ad29df4764045623e80": {
     "views": [
      {
       "cell_index": 4
      }
     ]
    },
    "2bf936e3e83d4d40a64cfda533989025": {
     "views": [
      {
       "cell_index": 4
      }
     ]
    },
    "38558b3210cb406a899b93be5ce4c261": {
     "views": [
      {
       "cell_index": 4
      }
     ]
    },
    "5a32454c32c54f45a1b356b9ee9953cb": {
     "views": [
      {
       "cell_index": 4
      }
     ]
    },
    "61d6f09cc53f47fa8c9b7a2df42266b3": {
     "views": [
      {
       "cell_index": 4
      }
     ]
    },
    "79e8acb7b40149fdafe5389a91c22055": {
     "views": [
      {
       "cell_index": 4
      }
     ]
    },
    "7b61112bf8854feeb87c5fa0b981c59c": {
     "views": [
      {
       "cell_index": 4
      }
     ]
    },
    "82eefeaaaf0b4f9d8b7a003d08aa9ea6": {
     "views": [
      {
       "cell_index": 4
      }
     ]
    },
    "861fcf6d7d684d8187fdaa71464e972f": {
     "views": [
      {
       "cell_index": 4
      }
     ]
    },
    "86df9b384f1349d09694a1b26f8ead6e": {
     "views": [
      {
       "cell_index": 4
      }
     ]
    },
    "878f722269fd4708b24ab23fbf209cb2": {
     "views": [
      {
       "cell_index": 4
      }
     ]
    },
    "889f5081fb9d4c578803b30d49ea2589": {
     "views": [
      {
       "cell_index": 4
      }
     ]
    },
    "89ddde6fdc3f49f4a77d08ea51904c40": {
     "views": [
      {
       "cell_index": 4
      }
     ]
    },
    "8bffe9e3b06f40378023a211cb159473": {
     "views": [
      {
       "cell_index": 4
      }
     ]
    },
    "938487b44f7e46f4b34d02fabde6ae1d": {
     "views": [
      {
       "cell_index": 4
      }
     ]
    },
    "9b2ef0c6e2494f1fa87ba476f4d5ebe1": {
     "views": [
      {
       "cell_index": 4
      }
     ]
    },
    "a128b5528bbd40b59d5e5a9958e67df6": {
     "views": [
      {
       "cell_index": 4
      }
     ]
    },
    "a241e030e0f243d3b3229e22059c2f22": {
     "views": [
      {
       "cell_index": 4
      }
     ]
    },
    "a915ad61a1b44eb8a2c5b4b7e1d10849": {
     "views": [
      {
       "cell_index": 4
      }
     ]
    },
    "ba36e29078a549aaa536d8292219e440": {
     "views": [
      {
       "cell_index": 4
      }
     ]
    },
    "bc893831a47f4451b542b1c2247b0e99": {
     "views": [
      {
       "cell_index": 4
      }
     ]
    },
    "be0f4c7b3da14e6b968cc8511f6ccb5d": {
     "views": [
      {
       "cell_index": 4
      }
     ]
    },
    "c5dfa03ae8204c8ba322ee69e25735d9": {
     "views": [
      {
       "cell_index": 4
      }
     ]
    },
    "c7e8bf06b59941fe82408053db303caf": {
     "views": [
      {
       "cell_index": 4
      }
     ]
    },
    "df6da92381cc4077a2b23b13c144c152": {
     "views": [
      {
       "cell_index": 4
      }
     ]
    },
    "ec231bf84248407a8dc037b3d0826c4a": {
     "views": [
      {
       "cell_index": 4
      }
     ]
    },
    "f7272e19477d444bb0040e23df5b9158": {
     "views": [
      {
       "cell_index": 4
      }
     ]
    },
    "f96574ee188e4593896c660867e844d8": {
     "views": [
      {
       "cell_index": 4
      }
     ]
    }
   },
   "version": "1.2.0"
  }
 },
 "nbformat": 4,
 "nbformat_minor": 2
}
